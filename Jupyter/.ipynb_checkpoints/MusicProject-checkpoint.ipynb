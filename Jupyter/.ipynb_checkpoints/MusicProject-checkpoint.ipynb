{
 "cells": [
  {
   "cell_type": "code",
   "execution_count": 13,
   "metadata": {
    "scrolled": false
   },
   "outputs": [],
   "source": [
    "# Imports\n",
    "from sklearn.tree import DecisionTreeClassifier\n",
    "from sklearn.model_selection import train_test_split\n",
    "from sklearn.metrics import accuracy_score\n",
    "from sklearn import tree\n",
    "import joblib\n",
    "import pandas as pd\n",
    "\n",
    "# Import the data\n",
    "music_data = pd.read_csv('music.csv')\n",
    "\n",
    "# Remove the genre column, drop it\n",
    "X = music_data.drop(columns=['genre'])\n",
    "# Just the genre column\n",
    "y = music_data['genre']\n",
    "\n",
    "# Separate the data for train and test\n",
    "X_train, X_test, y_train, y_test = train_test_split(X,y, test_size=0.2)\n",
    "\n",
    "# Make a new object with the class\n",
    "model = DecisionTreeClassifier()\n",
    "model.fit(X_train,y_train)\n",
    "\n",
    "# Dump or Load a model\n",
    "# joblib.dump(model, \"music-god.joblib\")\n",
    "# joblib.load(\"music-god.joblib\")\n",
    "\n",
    "# Make the predictions\n",
    "predictions = model.predict(X_test)\n",
    "\n",
    "# Score\n",
    "score = accuracy_score(predictions, y_test)\n",
    "score = score*100"
   ]
  },
  {
   "cell_type": "code",
   "execution_count": 9,
   "metadata": {},
   "outputs": [
    {
     "name": "stdout",
     "output_type": "stream",
     "text": [
      "9        Dance\n",
      "2       HipHop\n",
      "13    Acoustic\n",
      "0       HipHop\n",
      "Name: genre, dtype: object \n",
      "\n"
     ]
    }
   ],
   "source": [
    "print(y_test, \"\\n\")\n",
    "print(predictions, score)"
   ]
  }
 ],
 "metadata": {
  "kernelspec": {
   "display_name": "Python 3",
   "language": "python",
   "name": "python3"
  },
  "language_info": {
   "codemirror_mode": {
    "name": "ipython",
    "version": 3
   },
   "file_extension": ".py",
   "mimetype": "text/x-python",
   "name": "python",
   "nbconvert_exporter": "python",
   "pygments_lexer": "ipython3",
   "version": "3.8.6"
  }
 },
 "nbformat": 4,
 "nbformat_minor": 4
}
